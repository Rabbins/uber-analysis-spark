{
 "cells": [
  {
   "cell_type": "code",
   "execution_count": 4,
   "metadata": {},
   "outputs": [],
   "source": [
    "import requests\n",
    "import os"
   ]
  },
  {
   "cell_type": "code",
   "execution_count": 10,
   "metadata": {},
   "outputs": [],
   "source": [
    "\n",
    "# Descargamos el CSV\n",
    "# url = \"https://github.com/ayushdixit487/Uber-Data-Analysis-Project-in-Pyspark/blob/main/dataset.csv\"\n",
    "url = \"https://raw.githubusercontent.com/ayushdixit487/Uber-Data-Analysis-Project-in-Pyspark/main/dataset.csv\"\n",
    "carpeta_destino = \"../../data/input\"\n",
    "nombre_fichero = \"dataset.csv\"\n",
    "ruta_final = os.path.join(carpeta_destino,nombre_fichero)\n",
    "\n",
    "# Descarga el archivo\n",
    "respuesta = requests.get(url)\n",
    "# Guarda el archivo en la ruta especificada\n",
    "with open(ruta_final, \"wb\") as archivo:\n",
    "    archivo.write(respuesta.content)"
   ]
  }
 ],
 "metadata": {
  "kernelspec": {
   "display_name": ".venv",
   "language": "python",
   "name": "python3"
  },
  "language_info": {
   "codemirror_mode": {
    "name": "ipython",
    "version": 3
   },
   "file_extension": ".py",
   "mimetype": "text/x-python",
   "name": "python",
   "nbconvert_exporter": "python",
   "pygments_lexer": "ipython3",
   "version": "3.10.12"
  }
 },
 "nbformat": 4,
 "nbformat_minor": 2
}
